{
 "cells": [
  {
   "cell_type": "code",
   "execution_count": 1,
   "metadata": {},
   "outputs": [
    {
     "data": {
      "text/html": [
       "<div>\n",
       "<style scoped>\n",
       "    .dataframe tbody tr th:only-of-type {\n",
       "        vertical-align: middle;\n",
       "    }\n",
       "\n",
       "    .dataframe tbody tr th {\n",
       "        vertical-align: top;\n",
       "    }\n",
       "\n",
       "    .dataframe thead th {\n",
       "        text-align: right;\n",
       "    }\n",
       "</style>\n",
       "<table border=\"1\" class=\"dataframe\">\n",
       "  <thead>\n",
       "    <tr style=\"text-align: right;\">\n",
       "      <th></th>\n",
       "      <th>time</th>\n",
       "      <th>open</th>\n",
       "      <th>high</th>\n",
       "      <th>low</th>\n",
       "      <th>close</th>\n",
       "      <th>volume</th>\n",
       "    </tr>\n",
       "  </thead>\n",
       "  <tbody>\n",
       "    <tr>\n",
       "      <th>0</th>\n",
       "      <td>2020-01-01 00:12:00</td>\n",
       "      <td>108.609</td>\n",
       "      <td>108.609</td>\n",
       "      <td>108.609</td>\n",
       "      <td>108.609</td>\n",
       "      <td>1.0</td>\n",
       "    </tr>\n",
       "    <tr>\n",
       "      <th>1</th>\n",
       "      <td>2020-01-01 23:50:00</td>\n",
       "      <td>108.609</td>\n",
       "      <td>108.609</td>\n",
       "      <td>108.609</td>\n",
       "      <td>108.609</td>\n",
       "      <td>1.0</td>\n",
       "    </tr>\n",
       "    <tr>\n",
       "      <th>2</th>\n",
       "      <td>2020-01-02 00:12:00</td>\n",
       "      <td>108.609</td>\n",
       "      <td>108.609</td>\n",
       "      <td>108.609</td>\n",
       "      <td>108.609</td>\n",
       "      <td>1.0</td>\n",
       "    </tr>\n",
       "    <tr>\n",
       "      <th>3</th>\n",
       "      <td>2020-01-02 09:00:00</td>\n",
       "      <td>108.692</td>\n",
       "      <td>108.701</td>\n",
       "      <td>108.692</td>\n",
       "      <td>108.701</td>\n",
       "      <td>89.0</td>\n",
       "    </tr>\n",
       "    <tr>\n",
       "      <th>4</th>\n",
       "      <td>2020-01-02 09:01:00</td>\n",
       "      <td>108.701</td>\n",
       "      <td>108.707</td>\n",
       "      <td>108.699</td>\n",
       "      <td>108.703</td>\n",
       "      <td>103.0</td>\n",
       "    </tr>\n",
       "  </tbody>\n",
       "</table>\n",
       "</div>"
      ],
      "text/plain": [
       "                  time     open     high      low    close  volume\n",
       "0  2020-01-01 00:12:00  108.609  108.609  108.609  108.609     1.0\n",
       "1  2020-01-01 23:50:00  108.609  108.609  108.609  108.609     1.0\n",
       "2  2020-01-02 00:12:00  108.609  108.609  108.609  108.609     1.0\n",
       "3  2020-01-02 09:00:00  108.692  108.701  108.692  108.701    89.0\n",
       "4  2020-01-02 09:01:00  108.701  108.707  108.699  108.703   103.0"
      ]
     },
     "execution_count": 1,
     "metadata": {},
     "output_type": "execute_result"
    }
   ],
   "source": [
    "import pandas as pd\n",
    "\n",
    "df = pd.read_csv(\"data/usdjpy_2020.csv\")\n",
    "df.head()"
   ]
  },
  {
   "cell_type": "code",
   "execution_count": null,
   "metadata": {},
   "outputs": [],
   "source": []
  }
 ],
 "metadata": {
  "kernelspec": {
   "display_name": "Python 3",
   "language": "python",
   "name": "python3"
  },
  "language_info": {
   "codemirror_mode": {
    "name": "ipython",
    "version": 3
   },
   "file_extension": ".py",
   "mimetype": "text/x-python",
   "name": "python",
   "nbconvert_exporter": "python",
   "pygments_lexer": "ipython3",
   "version": "3.8.0"
  }
 },
 "nbformat": 4,
 "nbformat_minor": 4
}
